{
 "cells": [
  {
   "attachments": {},
   "cell_type": "markdown",
   "id": "684e102e",
   "metadata": {},
   "source": [
    "去噪NAS pretrain测试代码"
   ]
  },
  {
   "cell_type": "code",
   "execution_count": null,
   "id": "97fd9fc2",
   "metadata": {},
   "outputs": [],
   "source": [
    "import torch\n",
    "from torch.utils.data import DataLoader\n",
    "from datetime import datetime\n",
    "import logging,argparse\n",
    "import warnings\n",
    "from LFDatatest import LFDataset\n",
    "from Functions import weights_init,SetupSeed,CropLF, MergeLF,ComptPSNR,rgb2ycbcr\n",
    "import itertools,argparse\n",
    "from skimage.metrics import structural_similarity\n",
    "import numpy as np\n",
    "import scipy.io as scio \n",
    "import scipy.misc as scim\n",
    "import matplotlib.pyplot as plt\n",
    "from collections import defaultdict\n",
    "import os\n",
    "import time\n",
    "from os.path import join\n",
    "from MainNet_pfe_pretrain import MainNet\n",
    "os.environ['CUDA_VISIBLE_DEVICES'] = '0'"
   ]
  },
  {
   "cell_type": "code",
   "execution_count": null,
   "id": "72acff4a",
   "metadata": {},
   "outputs": [],
   "source": [
    "# Testing settings\n",
    "parser = argparse.ArgumentParser(description=\"Light Field Compressed Sensing\")\n",
    "parser.add_argument(\"--learningRate\", type=float, default=1e-3, help=\"Learning rate\")\n",
    "parser.add_argument(\"--step\", type=int, default=1000, help=\"Learning rate decay every n epochs\")\n",
    "parser.add_argument(\"--reduce\", type=float, default=0.5, help=\"Learning rate decay\")\n",
    "parser.add_argument(\"--stageNum\", type=int, default=2, help=\"The number of stages\")\n",
    "parser.add_argument(\"--sasLayerNum\", type=int, default=6, help=\"The number of stages\")\n",
    "parser.add_argument(\"--temperature_1\", type=float, default=1, help=\"The number of temperature_1\")\n",
    "parser.add_argument(\"--temperature_2\", type=float, default=1, help=\"The number of temperature_2\")\n",
    "parser.add_argument(\"--component_num\", type=int, default=4, help=\"The number of nas component\")\n",
    "parser.add_argument(\"--noiselevel\", type=int, default=20, help=\"Noise level 10 20 50\")\n",
    "parser.add_argument(\"--batchSize\", type=int, default=1, help=\"Batch size\")\n",
    "parser.add_argument(\"--sampleNum\", type=int, default=55, help=\"The number of LF in training set\")\n",
    "parser.add_argument(\"--patchSize\", type=int, default=32, help=\"The size of croped LF patch\")\n",
    "\n",
    "parser.add_argument(\"--angResolution\", type=int, default=7, help=\"The angular resolution of original LF\")\n",
    "parser.add_argument(\"--channelNum\", type=int, default=1, help=\"The channel number of input LF\")\n",
    "parser.add_argument(\"--epochNum\", type=int, default=11000, help=\"The number of epoches\")\n",
    "parser.add_argument(\"--overlap\", type=int, default=4, help=\"The size of croped LF patch\")\n",
    "parser.add_argument(\"--summaryPath\", type=str, default='./', help=\"Path for saving training log \")\n",
    "parser.add_argument(\"--dataName\", type=str, default='Synthetic', help=\"The name of dataset \")\n",
    "parser.add_argument(\"--modelPath\", type=str, default='./model/*** model path***', help=\"Path for loading trained model \")\n",
    "parser.add_argument(\"--dataPath\", type=str, default='/***dataroot***/test_synthetic_noiselevel_10_20_50.mat', help=\"Path for loading training data \")\n",
    "parser.add_argument(\"--savePath\", type=str, default='./results/', help=\"Path for saving results \")\n",
    "opt = parser.parse_known_args()[0]\n",
    "\n",
    "warnings.filterwarnings(\"ignore\")\n",
    "plt.ion()\n",
    "logging.basicConfig(level=logging.INFO, format='%(levelname)s: %(message)s')\n",
    "log = logging.getLogger()\n",
    "fh = logging.FileHandler('Testing_original.log')\n",
    "log.addHandler(fh)"
   ]
  },
  {
   "cell_type": "code",
   "execution_count": null,
   "id": "a3d4987f",
   "metadata": {},
   "outputs": [],
   "source": [
    "lf_dataset = LFDataset(opt)\n",
    "dataloader = DataLoader(lf_dataset, batch_size=opt.batchSize,shuffle=False)\n",
    "device = torch.device(\"cuda:3\" if torch.cuda.is_available() else \"cpu\")\n",
    "print(device)  \n",
    "model=MainNet(opt)\n",
    "model.load_state_dict(torch.load(opt.modelPath)['model'])\n",
    "model.eval()\n",
    "model.cuda()"
   ]
  },
  {
   "cell_type": "code",
   "execution_count": null,
   "id": "4f8a6b3a",
   "metadata": {
    "scrolled": true
   },
   "outputs": [],
   "source": [
    "with torch.no_grad():\n",
    "#     SetupSeed(50)\n",
    "    num = 0\n",
    "    avg_psnr = 0\n",
    "    avg_ssim = 0\n",
    "    for _,sample in enumerate(dataloader):\n",
    "        num=num+1\n",
    "        LF=sample['lf']\n",
    "        noilf=sample['noiself']\n",
    "        lfName=sample['lfname']\n",
    "        b,u,v,x,y = LF.shape   \n",
    "        # Crop the input LF into patches \n",
    "        LFStack,coordinate=CropLF(noilf,opt.patchSize, opt.overlap) #[b,n,u,v,c,x,y]\n",
    "        n=LFStack.shape[1]       \n",
    "        estiLFStack=torch.zeros(b,n,u,v,opt.patchSize,opt.patchSize)#[b,n,u,v,c,x,y]\n",
    "\n",
    "        for i in range(LFStack.shape[1]):\n",
    "            estiLFStack[:,i,:,:,:,:] = model(LFStack[:,i,:,:,:,:].cuda(),opt.epochNum)\n",
    "        estiLF=MergeLF(estiLFStack,coordinate,opt.overlap,x,y) #[b,u,v,c,x,y]\n",
    "        b,u,v,xCrop,yCrop=estiLF.shape\n",
    "        LF=LF[:,:,:, opt.overlap//2:opt.overlap//2+xCrop,opt.overlap//2:opt.overlap//2+yCrop]\n",
    "        lf_psnr = 0\n",
    "        lf_ssim = 0\n",
    "        #evaluation\n",
    "        for ind_uv in range(u*v):\n",
    "                lf_psnr += ComptPSNR(estiLF.reshape(b,u*v,xCrop,yCrop)[0,ind_uv].cpu().numpy(),\n",
    "                                     LF.reshape(b,u*v,xCrop,yCrop)[0,ind_uv].cpu().numpy())  / (u*v)\n",
    "\n",
    "                lf_ssim += structural_similarity((estiLF.reshape(b,u*v,xCrop,yCrop)[0,ind_uv].cpu().numpy()*255.0).astype(np.uint8),\n",
    "                                        (LF.reshape(b,u*v,xCrop,yCrop)[0,ind_uv].cpu().numpy()*255.0).astype(np.uint8),gaussian_weights=True,sigma=1.5,use_sample_covariance=False,multichannel=False) / (u*v)\n",
    "        avg_psnr += lf_psnr / len(dataloader)           \n",
    "        avg_ssim += lf_ssim / len(dataloader)\n",
    "        log.info('Index: %d  Scene: %s  PSNR: %.2f  SSIM: %.3f'%(num,lfName[0],lf_psnr,lf_ssim))\n",
    "        #save reconstructed LF\n",
    "        scio.savemat(os.path.join(opt.savePath,lfName[0]+'.mat'),\n",
    "                     {'lf_recons':torch.squeeze(estiLF).numpy()})\n",
    "    log.info('Average PSNR: %.2f  SSIM: %.3f '%(avg_psnr,avg_ssim))  "
   ]
  },
  {
   "cell_type": "code",
   "execution_count": null,
   "id": "6d05c2f6",
   "metadata": {},
   "outputs": [],
   "source": []
  },
  {
   "cell_type": "code",
   "execution_count": null,
   "id": "f7178735",
   "metadata": {},
   "outputs": [],
   "source": []
  },
  {
   "cell_type": "code",
   "execution_count": null,
   "id": "885a3d11",
   "metadata": {},
   "outputs": [],
   "source": []
  },
  {
   "cell_type": "code",
   "execution_count": null,
   "id": "bbafae8e",
   "metadata": {},
   "outputs": [],
   "source": []
  },
  {
   "cell_type": "code",
   "execution_count": null,
   "id": "d49ee67e",
   "metadata": {},
   "outputs": [],
   "source": []
  },
  {
   "cell_type": "code",
   "execution_count": null,
   "id": "624e0722",
   "metadata": {},
   "outputs": [],
   "source": []
  },
  {
   "cell_type": "code",
   "execution_count": null,
   "id": "78077dce",
   "metadata": {},
   "outputs": [],
   "source": []
  },
  {
   "cell_type": "code",
   "execution_count": null,
   "id": "0e208787",
   "metadata": {},
   "outputs": [],
   "source": [
    "\n",
    "\n"
   ]
  }
 ],
 "metadata": {
  "kernelspec": {
   "display_name": "Python 3 (ipykernel)",
   "language": "python",
   "name": "python3"
  },
  "language_info": {
   "codemirror_mode": {
    "name": "ipython",
    "version": 3
   },
   "file_extension": ".py",
   "mimetype": "text/x-python",
   "name": "python",
   "nbconvert_exporter": "python",
   "pygments_lexer": "ipython3",
   "version": "3.8.11"
  }
 },
 "nbformat": 4,
 "nbformat_minor": 5
}
